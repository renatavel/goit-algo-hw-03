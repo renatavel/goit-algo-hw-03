{
 "cells": [
  {
   "cell_type": "code",
   "execution_count": 10,
   "metadata": {},
   "outputs": [
    {
     "data": {
      "text/plain": [
       "366"
      ]
     },
     "execution_count": 10,
     "metadata": {},
     "output_type": "execute_result"
    }
   ],
   "source": [
    "from datetime import datetime\n",
    "def get_days_from_today(date_by_user):\n",
    "    datetime_object = datetime.strptime(date_by_user, \"%Y-%m-%d\")\n",
    "    date_now = datetime.today()\n",
    "    days_since=date_now.toordinal()-datetime_object.toordinal()\n",
    "    return days_since\n",
    "  \n",
    "get_days_from_today(\"2023-10-11\")"
   ]
  },
  {
   "cell_type": "code",
   "execution_count": 18,
   "metadata": {},
   "outputs": [
    {
     "name": "stdout",
     "output_type": "stream",
     "text": [
      "Your lottery tickets: [9, 46, 12, 34, 13, 24]\n"
     ]
    }
   ],
   "source": [
    "import random\n",
    "def get_number_of_tickets(min,max,quantity):\n",
    "    if min>=1 and max<=1000:\n",
    "        list_of_numbers=[]\n",
    "        for i in range(quantity):\n",
    "            number=random.randint(min,max)\n",
    "            if number not in list_of_numbers:\n",
    "              list_of_numbers.append(number)\n",
    "        return list_of_numbers  \n",
    "    else:\n",
    "        print(\"Out of range values have been entered.\")    \n",
    "\n",
    "lottery_tickets=get_number_of_tickets(1,49,6)\n",
    "print(\"Your lottery tickets:\", lottery_tickets)"
   ]
  },
  {
   "cell_type": "code",
   "execution_count": 72,
   "metadata": {},
   "outputs": [
    {
     "name": "stdout",
     "output_type": "stream",
     "text": [
      "Нормалізовані номери телефонів для SMS-розсилки: ['+380671234567', '+380952345678', '+380441234567', '+380501234567', '+380501233234', '+380503451234', '+380508889900', '+380501112222', '+380501112211']\n"
     ]
    }
   ],
   "source": [
    "import re\n",
    "def normalize_phone(phone_number):\n",
    "    pattern=r\"\\D\"\n",
    "    replacement=\"\"\n",
    "    modification=re.sub(pattern,replacement,phone_number)\n",
    "    final_modification=re.sub(r\"^(?!38)\",\"38\",modification)\n",
    "    return \"+\"+final_modification\n",
    "\n",
    "raw_numbers = [\n",
    "    \"067\\\\t123 4567\",\n",
    "    \"(095) 234-5678\\\\n\",\n",
    "    \"+380 44 123 4567\",\n",
    "    \"380501234567\",\n",
    "    \"    +38(050)123-32-34\",\n",
    "    \"     0503451234\",\n",
    "    \"(050)8889900\",\n",
    "    \"38050-111-22-22\",\n",
    "    \"38050 111 22 11   \",\n",
    "]\n",
    "sanitized_numbers = [normalize_phone(num) for num in raw_numbers]\n",
    "print(\"Нормалізовані номери телефонів для SMS-розсилки:\", sanitized_numbers)\n",
    "\n"
   ]
  }
 ],
 "metadata": {
  "kernelspec": {
   "display_name": "Python 3",
   "language": "python",
   "name": "python3"
  },
  "language_info": {
   "codemirror_mode": {
    "name": "ipython",
    "version": 3
   },
   "file_extension": ".py",
   "mimetype": "text/x-python",
   "name": "python",
   "nbconvert_exporter": "python",
   "pygments_lexer": "ipython3",
   "version": "3.11.8"
  }
 },
 "nbformat": 4,
 "nbformat_minor": 2
}
